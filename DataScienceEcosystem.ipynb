{
 "cells": [
  {
   "cell_type": "markdown",
   "id": "2c5259ce-bbbc-466c-b6a1-1498937b4e48",
   "metadata": {},
   "source": [
    "# Data Science Tools and Ecosystem"
   ]
  },
  {
   "cell_type": "markdown",
   "id": "fcdc3b2c-e131-4892-9e3e-25ef7a59992e",
   "metadata": {},
   "source": [
    "In this notebook, Data Science Tools and Ecosystem are summarized."
   ]
  },
  {
   "cell_type": "markdown",
   "id": "3702b91c-a342-48de-a4b4-ab2f0edc1db7",
   "metadata": {},
   "source": [
    "**Objectives**\n",
    "- Python\n",
    "- SQL\n",
    "- R\n",
    "- Julia"
   ]
  },
  {
   "cell_type": "markdown",
   "id": "c75c7060-4703-4f06-a721-83dd60198d7a",
   "metadata": {},
   "source": [
    "Some of the popular languages that Data Scientists use are:"
   ]
  },
  {
   "cell_type": "markdown",
   "id": "2a16ba49-7778-4a18-86f9-6d6128fa4ef2",
   "metadata": {},
   "source": [
    "[1] Python"
   ]
  },
  {
   "cell_type": "markdown",
   "id": "84e2f639-17ca-442c-9559-29e01d387a75",
   "metadata": {},
   "source": [
    "[2] R"
   ]
  },
  {
   "cell_type": "markdown",
   "id": "d7ef8f74-5414-4373-8310-cc4bfc1d02cc",
   "metadata": {},
   "source": [
    "[3] Julia"
   ]
  },
  {
   "cell_type": "markdown",
   "id": "78540614-0447-4a41-ae78-2b6b7109843b",
   "metadata": {},
   "source": [
    "Some of commonly used libraries used by Data Scientists include:"
   ]
  },
  {
   "cell_type": "markdown",
   "id": "b9f638bc-9397-4a95-9cc8-3d719022e660",
   "metadata": {},
   "source": [
    "[1] Numpy"
   ]
  },
  {
   "cell_type": "markdown",
   "id": "4eecbfc5-d38e-4cb4-b004-aeb00b45c423",
   "metadata": {},
   "source": [
    "[2] Pandas"
   ]
  },
  {
   "cell_type": "markdown",
   "id": "08554803-c05f-41d2-a966-c21801fff266",
   "metadata": {},
   "source": [
    "[3] Matplotlib"
   ]
  },
  {
   "cell_type": "markdown",
   "id": "8930ebdc-febe-438b-8114-e50372489530",
   "metadata": {},
   "source": [
    "[4] ggplot"
   ]
  },
  {
   "cell_type": "markdown",
   "id": "a4c53aac-4d46-4855-b8a1-1bed4c88e769",
   "metadata": {},
   "source": [
    "[5] Seaborn"
   ]
  },
  {
   "cell_type": "markdown",
   "id": "3e4ff0e4-5364-47fe-a38e-cfb5db7dfe1d",
   "metadata": {},
   "source": [
    "|Data Science Tools|\n",
    "|------------|\n",
    "|Jupyter|\n",
    "|Pycharm|\n",
    "|Spyder|"
   ]
  },
  {
   "cell_type": "markdown",
   "id": "2ce317ae-7d65-4183-9fad-bd00dd87fabf",
   "metadata": {},
   "source": [
    "### Below are the examples of evaluating arithmetic expression in Python"
   ]
  },
  {
   "cell_type": "code",
   "execution_count": 20,
   "id": "255a72b1-e0bf-41ee-bcc4-a7ba37e0c5b9",
   "metadata": {},
   "outputs": [
    {
     "data": {
      "text/plain": [
       "17"
      ]
     },
     "execution_count": 20,
     "metadata": {},
     "output_type": "execute_result"
    }
   ],
   "source": [
    "#This is a simple arithmetic expression to multiply then add integers\n",
    "(3*4)+5"
   ]
  },
  {
   "cell_type": "code",
   "execution_count": 21,
   "id": "000613b9-aad6-435b-8d19-da6e76c44f00",
   "metadata": {},
   "outputs": [
    {
     "data": {
      "text/plain": [
       "3.3333333333333335"
      ]
     },
     "execution_count": 21,
     "metadata": {},
     "output_type": "execute_result"
    }
   ],
   "source": [
    "#This will convert 200 minutes to hours by dividing 60\n",
    "200/60"
   ]
  },
  {
   "cell_type": "markdown",
   "id": "10e1856a-c973-42d7-8f9e-89b8887c6238",
   "metadata": {},
   "source": [
    "## Author \n",
    "Lokesh Yadav"
   ]
  },
  {
   "cell_type": "code",
   "execution_count": null,
   "id": "0fb9da06-01f3-4ced-aa8c-41d86cf9df73",
   "metadata": {},
   "outputs": [],
   "source": []
  }
 ],
 "metadata": {
  "kernelspec": {
   "display_name": "Python 3 (ipykernel)",
   "language": "python",
   "name": "python3"
  },
  "language_info": {
   "codemirror_mode": {
    "name": "ipython",
    "version": 3
   },
   "file_extension": ".py",
   "mimetype": "text/x-python",
   "name": "python",
   "nbconvert_exporter": "python",
   "pygments_lexer": "ipython3",
   "version": "3.12.7"
  }
 },
 "nbformat": 4,
 "nbformat_minor": 5
}
